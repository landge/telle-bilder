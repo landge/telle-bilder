{
 "cells": [
  {
   "cell_type": "code",
   "execution_count": 1,
   "metadata": {
    "collapsed": false,
    "jupyter": {
     "outputs_hidden": false
    },
    "pycharm": {
     "name": "#%%\n"
    }
   },
   "outputs": [],
   "source": [
    "import pandas as pd\n",
    "# Import CSV files\n",
    "monas_data = pd.read_csv(\"../data/raw/norcoast_overview.csv\")\n",
    "seg_results = pd.read_csv('../data/raw/seg_results.csv')"
   ]
  },
  {
   "cell_type": "code",
   "execution_count": 38,
   "metadata": {
    "collapsed": false,
    "jupyter": {
     "outputs_hidden": false
    },
    "pycharm": {
     "name": "#%%\n"
    }
   },
   "outputs": [],
   "source": [
    "def make_hospital_code(hospital_name):\n",
    "    if hospital_name == 'St. Olavs Hospital':\n",
    "        return '400'\n",
    "    elif hospital_name == 'Haukeland Universitetssykehus':\n",
    "        return '300'\n",
    "    elif hospital_name == 'Vestre Viken HF, Sykehuset Asker og Bær':\n",
    "        return '221'\n",
    "    elif hospital_name == 'Oslo Universitetssykehus, Ullevål':\n",
    "        return '100'\n",
    "    elif hospital_name == 'Ålesund sykehus':\n",
    "        return '410'\n",
    "\n",
    "def fill_zeros(pno):\n",
    "    pno_as_string = str(pno)\n",
    "    filled_with_zeros = pno_as_string.zfill(3)\n",
    "    return filled_with_zeros\n",
    "\n",
    "def check_if_images(pno, list_over_patients):\n",
    "    if pno in list_over_patients:\n",
    "        return 1\n",
    "    else:\n",
    "        return 0\n",
    "\n",
    "def make_hospital_name(pid):\n",
    "    first_three_numbers = pid[:3]\n",
    "    if first_three_numbers == '400':\n",
    "        return 'St. Olavs'\n",
    "    if first_three_numbers == '300':\n",
    "        return 'Haukeland'\n",
    "    if first_three_numbers == '221':\n",
    "        return 'Bærum'\n",
    "    if first_three_numbers == '100':\n",
    "        return 'Ullevål'\n",
    "    if first_three_numbers == '410':\n",
    "        return 'Ålesund'"
   ]
  },
  {
   "cell_type": "code",
   "execution_count": 39,
   "metadata": {
    "pycharm": {
     "name": "#%%\n"
    }
   },
   "outputs": [
    {
     "data": {
      "text/plain": [
       "St. Olavs Hospital                         400\n",
       "Haukeland Universitetssykehus              142\n",
       "Vestre Viken HF, Sykehuset Asker og Bær    141\n",
       "Oslo Universitetssykehus, Ullevål           99\n",
       "Ålesund sykehus                             33\n",
       "Name: Hosp_x, dtype: int64"
      ]
     },
     "execution_count": 39,
     "metadata": {},
     "output_type": "execute_result"
    }
   ],
   "source": [
    "# monas_data.head()\n",
    "# Antall pasienter i excel fil som Mona har vist\n",
    "#\n",
    "number_of_unique_patients_in_excel_fil = monas_data['PatientName'].nunique()\n",
    "# Antall linjer med modalitet anført som CT\n",
    "ct_data = monas_data.loc[monas_data['Modality'] == 'CT',['PatientName','SeriesDescription','StudyDescription']]\n",
    "antall_pasienter_med_ct_i_excel_file = ct_data['PatientName'].nunique()\n",
    "# Liste over pasienter med bilder i excel filen\n",
    "list_over_patients_with_images = [str(x) for x in list(monas_data['PatientName'].unique())]\n",
    "# Liste over pasienter med CT i excel filen\n",
    "ct_list = [str(x) for x in list(ct_data['PatientName'].unique())]\n",
    "seg_results['Hosp_x'].value_counts()"
   ]
  },
  {
   "cell_type": "code",
   "execution_count": 40,
   "metadata": {},
   "outputs": [
    {
     "data": {
      "text/plain": [
       "St. Olavs    231\n",
       "Bærum         10\n",
       "Name: hosp, dtype: int64"
      ]
     },
     "execution_count": 40,
     "metadata": {},
     "output_type": "execute_result"
    }
   ],
   "source": [
    "cts_and_hospital = pd.DataFrame({'nc_id': ct_list, 'hosp': [make_hospital_name(x) for x in ct_list]})\n",
    "cts_and_hospital['hosp'].value_counts()"
   ]
  },
  {
   "cell_type": "code",
   "execution_count": 41,
   "metadata": {
    "collapsed": false,
    "jupyter": {
     "outputs_hidden": false
    },
    "pycharm": {
     "name": "#%%\n"
    }
   },
   "outputs": [],
   "source": [
    "seg_results['hosp_code'] = seg_results['Hosp_x'].apply(make_hospital_code)\n",
    "seg_results['patient_code'] = seg_results['pNo'].apply(fill_zeros)\n",
    "seg_results['NorCOAST_ID'] = seg_results['hosp_code'] + seg_results['patient_code']\n",
    "seg_results['clinical_images'] = seg_results['NorCOAST_ID'].apply(check_if_images, list_over_patients=list_over_patients_with_images)\n",
    "seg_results['ct_images'] = seg_results['NorCOAST_ID'].apply(check_if_images, list_over_patients=ct_list)"
   ]
  },
  {
   "cell_type": "code",
   "execution_count": 42,
   "metadata": {
    "pycharm": {
     "name": "#%%\n"
    }
   },
   "outputs": [
    {
     "data": {
      "text/plain": [
       "Haukeland Universitetssykehus              96\n",
       "St. Olavs Hospital                         85\n",
       "Vestre Viken HF, Sykehuset Asker og Bær    54\n",
       "Oslo Universitetssykehus, Ullevål          42\n",
       "Ålesund sykehus                            25\n",
       "Name: Hosp_x, dtype: int64"
      ]
     },
     "execution_count": 42,
     "metadata": {},
     "output_type": "execute_result"
    }
   ],
   "source": [
    "seg_results.loc[seg_results['clinical_images'] == False, 'Hosp_x'].value_counts()"
   ]
  },
  {
   "cell_type": "code",
   "execution_count": 43,
   "metadata": {
    "pycharm": {
     "name": "#%%\n"
    }
   },
   "outputs": [
    {
     "data": {
      "text/plain": [
       "St. Olavs Hospital                         315\n",
       "Vestre Viken HF, Sykehuset Asker og Bær     87\n",
       "Oslo Universitetssykehus, Ullevål           57\n",
       "Haukeland Universitetssykehus               46\n",
       "Ålesund sykehus                              8\n",
       "Name: Hosp_x, dtype: int64"
      ]
     },
     "execution_count": 43,
     "metadata": {},
     "output_type": "execute_result"
    }
   ],
   "source": [
    "seg_results.loc[seg_results['clinical_images'] == True, 'Hosp_x'].value_counts()"
   ]
  },
  {
   "cell_type": "code",
   "execution_count": 44,
   "metadata": {},
   "outputs": [],
   "source": [
    "seg_results.to_csv('../data/raw/nc_id.csv')"
   ]
  },
  {
   "cell_type": "code",
   "execution_count": 45,
   "metadata": {
    "pycharm": {
     "name": "#%%\n"
    }
   },
   "outputs": [
    {
     "data": {
      "text/plain": [
       "St. Olavs Hospital                         231\n",
       "Vestre Viken HF, Sykehuset Asker og Bær      9\n",
       "Name: Hosp_x, dtype: int64"
      ]
     },
     "execution_count": 45,
     "metadata": {},
     "output_type": "execute_result"
    }
   ],
   "source": [
    "seg_results.loc[seg_results['ct_images'] == True, 'Hosp_x'].value_counts()"
   ]
  },
  {
   "cell_type": "code",
   "execution_count": 46,
   "metadata": {
    "pycharm": {
     "name": "#%%\n"
    }
   },
   "outputs": [
    {
     "data": {
      "text/plain": [
       "241"
      ]
     },
     "execution_count": 46,
     "metadata": {},
     "output_type": "execute_result"
    }
   ],
   "source": []
  },
  {
   "cell_type": "code",
   "execution_count": 47,
   "metadata": {
    "collapsed": false,
    "jupyter": {
     "outputs_hidden": false
    },
    "pycharm": {
     "name": "#%%\n"
    }
   },
   "outputs": [
    {
     "name": "stdout",
     "output_type": "stream",
     "text": [
      "{\n",
      "  \"shell_port\": 58153,\n",
      "  \"iopub_port\": 57715,\n",
      "  \"stdin_port\": 45059,\n",
      "  \"control_port\": 40069,\n",
      "  \"hb_port\": 36039,\n",
      "  \"ip\": \"127.0.0.1\",\n",
      "  \"key\": \"c084e3fd-be49e6d364418b5c8d5451db\",\n",
      "  \"transport\": \"tcp\",\n",
      "  \"signature_scheme\": \"hmac-sha256\",\n",
      "  \"kernel_name\": \"\"\n",
      "}\n",
      "\n",
      "Paste the above JSON into a file, and connect with:\n",
      "    $> jupyter <app> --existing <file>\n",
      "or, if you are local, you can connect with just:\n",
      "    $> jupyter <app> --existing kernel-681f9d96-9e84-4f92-8066-cef171b50394.json\n",
      "or even just:\n",
      "    $> jupyter <app> --existing\n",
      "if this is the most recent Jupyter kernel you have started.\n"
     ]
    }
   ],
   "source": [
    "%connect_info"
   ]
  },
  {
   "cell_type": "code",
   "execution_count": 12,
   "metadata": {
    "collapsed": false,
    "jupyter": {
     "outputs_hidden": false
    },
    "pycharm": {
     "name": "#%%\n"
    }
   },
   "outputs": [],
   "source": [
    "%qtconsole"
   ]
  },
  {
   "cell_type": "code",
   "execution_count": null,
   "metadata": {
    "collapsed": false,
    "jupyter": {
     "outputs_hidden": false
    },
    "pycharm": {
     "name": "#%%\n"
    }
   },
   "outputs": [],
   "source": []
  }
 ],
 "metadata": {
  "interpreter": {
   "hash": "7b284e984c711fff185b2a4be3d29bbee80aedfa471cb31fdfe60818f4e606fc"
  },
  "kernelspec": {
   "display_name": "Python 3 (ipykernel)",
   "language": "python",
   "name": "python3"
  },
  "language_info": {
   "codemirror_mode": {
    "name": "ipython",
    "version": 3
   },
   "file_extension": ".py",
   "mimetype": "text/x-python",
   "name": "python",
   "nbconvert_exporter": "python",
   "pygments_lexer": "ipython3",
   "version": "3.10.4"
  }
 },
 "nbformat": 4,
 "nbformat_minor": 4
}
